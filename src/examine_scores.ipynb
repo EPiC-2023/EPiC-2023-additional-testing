{
 "cells": [
  {
   "cell_type": "code",
   "execution_count": 1,
   "metadata": {},
   "outputs": [],
   "source": [
    "from pathlib import Path\n",
    "from benedict import benedict\n",
    "from io_utils import load_scores\n",
    "import pandas as pd"
   ]
  },
  {
   "cell_type": "code",
   "execution_count": 2,
   "metadata": {},
   "outputs": [],
   "source": [
    "root = Path().resolve().parent\n",
    "scores_dir = root / \"scores\"\n",
    "exclude_teams = []"
   ]
  },
  {
   "cell_type": "markdown",
   "metadata": {},
   "source": [
    "# Teams"
   ]
  },
  {
   "cell_type": "code",
   "execution_count": 3,
   "metadata": {},
   "outputs": [],
   "source": [
    "# takes a few minutes to load\n",
    "teams_scores_benedict = load_scores(scores_dir / \"competition_submissions-finite\", exclude_teams=exclude_teams)"
   ]
  },
  {
   "cell_type": "code",
   "execution_count": 4,
   "metadata": {},
   "outputs": [
    {
     "data": {
      "text/plain": [
       "dict_keys(['folds_level', 'scenarios_level', 'files_level'])"
      ]
     },
     "execution_count": 4,
     "metadata": {},
     "output_type": "execute_result"
    }
   ],
   "source": [
    "# available keys\n",
    "teams_scores_benedict.keys()"
   ]
  },
  {
   "cell_type": "code",
   "execution_count": 5,
   "metadata": {},
   "outputs": [
    {
     "data": {
      "text/plain": [
       "PSU               0.901830\n",
       "CARElab           1.188186\n",
       "Queens            1.237955\n",
       "UBA               1.279475\n",
       "AffectiveBulls    1.303904\n",
       "IITB              1.415526\n",
       "Northeastern      1.426201\n",
       "VSL               1.446009\n",
       "NYIT              1.566066\n",
       "Cafeteros         1.585186\n",
       "SAIL              1.632797\n",
       "Princeton         1.686211\n",
       "dtype: float64"
      ]
     },
     "execution_count": 5,
     "metadata": {},
     "output_type": "execute_result"
    }
   ],
   "source": [
    "# show only RMSE (metric used in competition)\n",
    "pd.DataFrame.from_dict(teams_scores_benedict['scenarios_level'], orient='index').filter(regex=\".+rmse-mean\").mean(axis=1).sort_values()"
   ]
  },
  {
   "cell_type": "markdown",
   "metadata": {},
   "source": [
    "Simulated random physiology"
   ]
  },
  {
   "cell_type": "code",
   "execution_count": 6,
   "metadata": {},
   "outputs": [
    {
     "data": {
      "text/plain": [
       "CARElab_random_test    1.321260\n",
       "Queens_random_test     1.326552\n",
       "UBA_random_test        1.354289\n",
       "dtype: float64"
      ]
     },
     "execution_count": 6,
     "metadata": {},
     "output_type": "execute_result"
    }
   ],
   "source": [
    "random_physiology_scores_benedict = load_scores(scores_dir / \"noise_submissions-finite\", exclude_teams=exclude_teams)\n",
    "pd.DataFrame.from_dict(random_physiology_scores_benedict['scenarios_level'], orient='index').filter(regex=\".+rmse-mean\").mean(axis=1).sort_values()"
   ]
  }
 ],
 "metadata": {
  "kernelspec": {
   "display_name": "EPIC",
   "language": "python",
   "name": "python3"
  },
  "language_info": {
   "codemirror_mode": {
    "name": "ipython",
    "version": 3
   },
   "file_extension": ".py",
   "mimetype": "text/x-python",
   "name": "python",
   "nbconvert_exporter": "python",
   "pygments_lexer": "ipython3",
   "version": "3.11.5"
  }
 },
 "nbformat": 4,
 "nbformat_minor": 2
}
