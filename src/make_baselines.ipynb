{
 "cells": [
  {
   "cell_type": "code",
   "execution_count": 17,
   "metadata": {},
   "outputs": [],
   "source": [
    "from sklearn.linear_model import LinearRegression\n",
    "from pathlib import Path\n",
    "import pandas as pd\n",
    "import numpy as np\n",
    "import os"
   ]
  },
  {
   "cell_type": "code",
   "execution_count": 18,
   "metadata": {},
   "outputs": [],
   "source": [
    "root = Path(os.getcwd()).parent\n",
    "competition_data_path = root / \"data/competition/competition_data/\"\n",
    "results_root = root / \"predictions/competition_baselines\""
   ]
  },
  {
   "cell_type": "code",
   "execution_count": 19,
   "metadata": {},
   "outputs": [],
   "source": [
    "def save_df(test_df, data_path, competition_data_path, results_save_path):\n",
    "    save_filepath = results_save_path / data_path.relative_to(competition_data_path)\n",
    "    save_filepath.parent.mkdir(parents=True, exist_ok=True)\n",
    "    test_df.round(3).to_csv(save_filepath, index=False)"
   ]
  },
  {
   "cell_type": "markdown",
   "metadata": {},
   "source": [
    "# Average predictions"
   ]
  },
  {
   "cell_type": "code",
   "execution_count": 20,
   "metadata": {},
   "outputs": [],
   "source": [
    "def get_subjects_paths(data_path):\n",
    "    subjects_paths = dict()\n",
    "    for file_path in data_path.glob(\"**/train/annotations/*.csv\"):\n",
    "        subject_num = file_path.stem.split(\"_\")[1]\n",
    "        subjects_paths.setdefault(subject_num, list())\n",
    "        subjects_paths[subject_num].append(file_path)\n",
    "    return subjects_paths\n",
    "\n",
    "def get_videos_paths(data_path):\n",
    "    videos_paths = dict()\n",
    "    for file_path in data_path.glob(\"**/train/annotations/*.csv\"):\n",
    "        vid_num = file_path.stem.split(\"_\")[3]\n",
    "        videos_paths.setdefault(vid_num, list())\n",
    "        videos_paths[vid_num].append(file_path)\n",
    "    return videos_paths\n",
    "\n",
    "def iter_subjects_videos_paths(scenario_path, search_pattern=\"**/train/annotations/*.csv\"):\n",
    "    for data_path in scenario_path.glob(pattern=search_pattern):\n",
    "        yield data_path\n",
    "\n",
    "def iter_train_subjects_and_get_paths(scenario_path):\n",
    "    subjects_paths = get_subjects_paths(scenario_path)\n",
    "    for subject_num, subjects_paths_list in subjects_paths.items():\n",
    "        yield subject_num, subjects_paths_list\n",
    "\n",
    "def iter_train_videos_and_get_paths(scenario_path):\n",
    "    videos_paths = get_videos_paths(scenario_path)\n",
    "    for video_num, videos_paths_list in videos_paths.items():\n",
    "        yield video_num, videos_paths_list"
   ]
  },
  {
   "attachments": {},
   "cell_type": "markdown",
   "metadata": {},
   "source": [
    "## Scenario 1"
   ]
  },
  {
   "cell_type": "code",
   "execution_count": 21,
   "metadata": {},
   "outputs": [],
   "source": [
    "scenario1_data_path = competition_data_path / \"scenario_1\""
   ]
  },
  {
   "attachments": {},
   "cell_type": "markdown",
   "metadata": {},
   "source": [
    "### Scenario-wise model"
   ]
  },
  {
   "cell_type": "code",
   "execution_count": 22,
   "metadata": {},
   "outputs": [],
   "source": [
    "# prepare paths\n",
    "model_name = \"fold-wise_mean\"\n",
    "results_save_path = results_root / model_name / \"results\"\n",
    "\n",
    "# compute baseline\n",
    "arousal_results = list()\n",
    "valence_results = list()\n",
    "for train_path in iter_subjects_videos_paths(scenario1_data_path):\n",
    "    mean = pd.read_csv(train_path)[[\"arousal\", \"valence\"]].mean()\n",
    "    arousal_results.append(mean[\"arousal\"])\n",
    "    valence_results.append(mean[\"valence\"])\n",
    "overall_arousal_mean = np.mean(arousal_results)\n",
    "overall_valence_mean = np.mean(valence_results)\n",
    "\n",
    "# save predictions\n",
    "for test_path in iter_subjects_videos_paths(scenario1_data_path, search_pattern=\"**/test/annotations/*.csv\"):\n",
    "    test_df = pd.read_csv(test_path)\n",
    "    test_df[\"arousal\"] = overall_arousal_mean\n",
    "    test_df[\"valence\"] = overall_valence_mean\n",
    "    save_df(test_df, test_path, competition_data_path, results_save_path)"
   ]
  },
  {
   "attachments": {},
   "cell_type": "markdown",
   "metadata": {},
   "source": [
    "### Subject-wise model"
   ]
  },
  {
   "cell_type": "code",
   "execution_count": 23,
   "metadata": {},
   "outputs": [],
   "source": [
    "# prepare paths\n",
    "model_name = \"subject-wise_mean\"\n",
    "results_save_path = results_root / model_name / \"results\"\n",
    "\n",
    "# compute baseline\n",
    "for subject_num, paths_list in iter_train_subjects_and_get_paths(scenario1_data_path):\n",
    "    subject_arousal_results = list()\n",
    "    subject_valence_results = list()\n",
    "    for train_path in paths_list:\n",
    "        mean = pd.read_csv(train_path)[[\"arousal\", \"valence\"]].mean()\n",
    "        subject_arousal_results.append(mean[\"arousal\"])\n",
    "        subject_valence_results.append(mean[\"valence\"])\n",
    "    subject_arousal_mean = np.mean(subject_arousal_results)\n",
    "    subject_valence_mean = np.mean(subject_valence_results)\n",
    "    # save predictions\n",
    "    for test_path in iter_subjects_videos_paths(scenario1_data_path, search_pattern=f\"**/test/annotations/sub_{subject_num}*.csv\"):\n",
    "        test_df = pd.read_csv(test_path)\n",
    "        test_df[\"arousal\"] = subject_arousal_mean\n",
    "        test_df[\"valence\"] = subject_valence_mean\n",
    "        save_df(test_df, test_path, competition_data_path, results_save_path)"
   ]
  },
  {
   "attachments": {},
   "cell_type": "markdown",
   "metadata": {},
   "source": [
    "### Video-wise model"
   ]
  },
  {
   "cell_type": "code",
   "execution_count": 24,
   "metadata": {},
   "outputs": [],
   "source": [
    "# prepare paths\n",
    "model_name = \"video-wise_mean\"\n",
    "results_save_path = results_root / model_name / \"results\"\n",
    "\n",
    "# compute baseline\n",
    "for video_num, paths_list in iter_train_videos_and_get_paths(scenario1_data_path):\n",
    "    video_arousal_results = list()\n",
    "    video_valence_results = list()\n",
    "    for train_path in paths_list:\n",
    "        mean = pd.read_csv(train_path)[[\"arousal\", \"valence\"]].mean()\n",
    "        video_arousal_results.append(mean[\"arousal\"])\n",
    "        video_valence_results.append(mean[\"valence\"])\n",
    "    video_arousal_mean = np.mean(video_arousal_results)\n",
    "    video_valence_mean = np.mean(video_valence_results)\n",
    "    # save predictions\n",
    "    for test_path in iter_subjects_videos_paths(scenario1_data_path, search_pattern=f\"**/test/annotations/*vid_{video_num}.csv\"):\n",
    "        test_df = pd.read_csv(test_path)\n",
    "        test_df[\"arousal\"] = video_arousal_mean\n",
    "        test_df[\"valence\"] = video_valence_mean\n",
    "        save_df(test_df, test_path, competition_data_path, results_save_path)"
   ]
  },
  {
   "attachments": {},
   "cell_type": "markdown",
   "metadata": {},
   "source": [
    "### Subject-video-wise model"
   ]
  },
  {
   "cell_type": "code",
   "execution_count": 25,
   "metadata": {},
   "outputs": [],
   "source": [
    "# prepare paths\n",
    "model_name = \"subvid-wise_mean\"\n",
    "results_save_path = results_root / model_name / \"results\"\n",
    "\n",
    "# compute baseline\n",
    "arousal_results = list()\n",
    "valence_results = list()\n",
    "for train_path in iter_subjects_videos_paths(scenario1_data_path):\n",
    "    mean = pd.read_csv(train_path)[[\"arousal\", \"valence\"]].mean()\n",
    "    mean_arousal, mean_valence = mean[\"arousal\"], mean[\"valence\"]\n",
    "    # save predictions\n",
    "    test_path = Path(str(train_path).replace(\"train\", \"test\"))\n",
    "    test_df = pd.read_csv(test_path)\n",
    "    test_df[\"arousal\"] = mean_arousal\n",
    "    test_df[\"valence\"] = mean_valence\n",
    "    save_df(test_df, test_path, competition_data_path, results_save_path)"
   ]
  },
  {
   "attachments": {},
   "cell_type": "markdown",
   "metadata": {},
   "source": [
    "## Scenario 2"
   ]
  },
  {
   "cell_type": "code",
   "execution_count": 26,
   "metadata": {},
   "outputs": [],
   "source": [
    "scenario2_data_path = competition_data_path / \"scenario_2\""
   ]
  },
  {
   "attachments": {},
   "cell_type": "markdown",
   "metadata": {},
   "source": [
    "### Fold-wise model"
   ]
  },
  {
   "cell_type": "code",
   "execution_count": 27,
   "metadata": {},
   "outputs": [],
   "source": [
    "# prepare paths\n",
    "model_name = \"fold-wise_mean\"\n",
    "results_save_path = results_root / model_name / \"results\"\n",
    "\n",
    "for fold_num in range(5):\n",
    "    fold_data_path = scenario2_data_path / f\"fold_{fold_num}\"\n",
    "    # compute baseline\n",
    "    arousal_results = list()\n",
    "    valence_results = list()\n",
    "    for train_path in iter_subjects_videos_paths(fold_data_path):\n",
    "        mean = pd.read_csv(train_path)[[\"arousal\", \"valence\"]].mean()\n",
    "        arousal_results.append(mean[\"arousal\"])\n",
    "        valence_results.append(mean[\"valence\"])\n",
    "    overall_arousal_mean = np.mean(arousal_results)\n",
    "    overall_valence_mean = np.mean(valence_results)\n",
    "\n",
    "    # save predictions\n",
    "    for test_path in iter_subjects_videos_paths(fold_data_path, search_pattern=\"**/test/annotations/*.csv\"):\n",
    "        test_df = pd.read_csv(test_path)\n",
    "        test_df[\"arousal\"] = overall_arousal_mean\n",
    "        test_df[\"valence\"] = overall_valence_mean\n",
    "        save_df(test_df, test_path, competition_data_path, results_save_path)"
   ]
  },
  {
   "attachments": {},
   "cell_type": "markdown",
   "metadata": {},
   "source": [
    "### Video-wise model"
   ]
  },
  {
   "cell_type": "code",
   "execution_count": 28,
   "metadata": {},
   "outputs": [],
   "source": [
    "# prepare paths\n",
    "model_name = \"video-wise_mean\"\n",
    "results_save_path = results_root / model_name / \"results\"\n",
    "\n",
    "for fold_num in range(5):\n",
    "    fold_data_path = scenario2_data_path / f\"fold_{fold_num}\"\n",
    "    # compute baseline\n",
    "    for video_num, paths_list in iter_train_videos_and_get_paths(fold_data_path):\n",
    "        video_arousal_results = list()\n",
    "        video_valence_results = list()\n",
    "        for train_path in paths_list:\n",
    "            mean = pd.read_csv(train_path)[[\"arousal\", \"valence\"]].mean()\n",
    "            video_arousal_results.append(mean[\"arousal\"])\n",
    "            video_valence_results.append(mean[\"valence\"])\n",
    "        video_arousal_mean = np.mean(video_arousal_results)\n",
    "        video_valence_mean = np.mean(video_valence_results)\n",
    "        # save predictions\n",
    "        for test_path in iter_subjects_videos_paths(fold_data_path, search_pattern=f\"**/test/annotations/*vid_{video_num}.csv\"):\n",
    "            test_df = pd.read_csv(test_path)\n",
    "            test_df[\"arousal\"] = video_arousal_mean\n",
    "            test_df[\"valence\"] = video_valence_mean\n",
    "            save_df(test_df, test_path, competition_data_path, results_save_path)"
   ]
  },
  {
   "attachments": {},
   "cell_type": "markdown",
   "metadata": {},
   "source": [
    "## Scenario 3"
   ]
  },
  {
   "cell_type": "code",
   "execution_count": 29,
   "metadata": {},
   "outputs": [],
   "source": [
    "scenario3_data_path = competition_data_path / \"scenario_3\""
   ]
  },
  {
   "attachments": {},
   "cell_type": "markdown",
   "metadata": {},
   "source": [
    "### Fold-wise model"
   ]
  },
  {
   "cell_type": "code",
   "execution_count": 30,
   "metadata": {},
   "outputs": [],
   "source": [
    "# prepare paths\n",
    "model_name = \"fold-wise_mean\"\n",
    "results_save_path = results_root / model_name / \"results\"\n",
    "\n",
    "for fold_num in range(4):\n",
    "    fold_data_path = scenario3_data_path / f\"fold_{fold_num}\"\n",
    "    # compute baseline\n",
    "    arousal_results = list()\n",
    "    valence_results = list()\n",
    "    for train_path in iter_subjects_videos_paths(fold_data_path):\n",
    "        mean = pd.read_csv(train_path)[[\"arousal\", \"valence\"]].mean()\n",
    "        arousal_results.append(mean[\"arousal\"])\n",
    "        valence_results.append(mean[\"valence\"])\n",
    "    overall_arousal_mean = np.mean(arousal_results)\n",
    "    overall_valence_mean = np.mean(valence_results)\n",
    "\n",
    "    # save predictions\n",
    "    for test_path in iter_subjects_videos_paths(fold_data_path, search_pattern=\"**/test/annotations/*.csv\"):\n",
    "        test_df = pd.read_csv(test_path)\n",
    "        test_df[\"arousal\"] = overall_arousal_mean\n",
    "        test_df[\"valence\"] = overall_valence_mean\n",
    "        save_df(test_df, test_path, competition_data_path, results_save_path)"
   ]
  },
  {
   "attachments": {},
   "cell_type": "markdown",
   "metadata": {},
   "source": [
    "### Subject-wise model"
   ]
  },
  {
   "cell_type": "code",
   "execution_count": 31,
   "metadata": {},
   "outputs": [],
   "source": [
    "# prepare paths\n",
    "model_name = \"subject-wise_mean\"\n",
    "results_save_path = results_root / model_name / \"results\"\n",
    "\n",
    "# compute baseline\n",
    "for fold_num in range(4):\n",
    "    fold_data_path = scenario3_data_path / f\"fold_{fold_num}\"\n",
    "    for subject_num, paths_list in iter_train_subjects_and_get_paths(fold_data_path):\n",
    "        subject_arousal_results = list()\n",
    "        subject_valence_results = list()\n",
    "        for train_path in paths_list:\n",
    "            mean = pd.read_csv(train_path)[[\"arousal\", \"valence\"]].mean()\n",
    "            subject_arousal_results.append(mean[\"arousal\"])\n",
    "            subject_valence_results.append(mean[\"valence\"])\n",
    "        subject_arousal_mean = np.mean(subject_arousal_results)\n",
    "        subject_valence_mean = np.mean(subject_valence_results)\n",
    "        # save predictions\n",
    "        for test_path in iter_subjects_videos_paths(fold_data_path, search_pattern=f\"**/test/annotations/sub_{subject_num}*.csv\"):\n",
    "            test_df = pd.read_csv(test_path)\n",
    "            test_df[\"arousal\"] = subject_arousal_mean\n",
    "            test_df[\"valence\"] = subject_valence_mean\n",
    "            save_df(test_df, test_path, competition_data_path, results_save_path)"
   ]
  },
  {
   "attachments": {},
   "cell_type": "markdown",
   "metadata": {},
   "source": [
    "## Scenario 4"
   ]
  },
  {
   "cell_type": "code",
   "execution_count": 32,
   "metadata": {},
   "outputs": [],
   "source": [
    "scenario4_data_path = competition_data_path / \"scenario_4\""
   ]
  },
  {
   "attachments": {},
   "cell_type": "markdown",
   "metadata": {},
   "source": [
    "### Fold-wise model"
   ]
  },
  {
   "cell_type": "code",
   "execution_count": 33,
   "metadata": {},
   "outputs": [],
   "source": [
    "# prepare paths\n",
    "model_name = \"fold-wise_mean\"\n",
    "results_save_path = results_root / model_name / \"results\"\n",
    "\n",
    "for fold_num in range(2):\n",
    "    fold_data_path = scenario4_data_path / f\"fold_{fold_num}\"\n",
    "    # compute baseline\n",
    "    arousal_results = list()\n",
    "    valence_results = list()\n",
    "    for train_path in iter_subjects_videos_paths(fold_data_path):\n",
    "        mean = pd.read_csv(train_path)[[\"arousal\", \"valence\"]].mean()\n",
    "        arousal_results.append(mean[\"arousal\"])\n",
    "        valence_results.append(mean[\"valence\"])\n",
    "    overall_arousal_mean = np.mean(arousal_results)\n",
    "    overall_valence_mean = np.mean(valence_results)\n",
    "\n",
    "    # save predictions\n",
    "    for test_path in iter_subjects_videos_paths(fold_data_path, search_pattern=\"**/test/annotations/*.csv\"):\n",
    "        test_df = pd.read_csv(test_path)\n",
    "        test_df[\"arousal\"] = overall_arousal_mean\n",
    "        test_df[\"valence\"] = overall_valence_mean\n",
    "        save_df(test_df, test_path, competition_data_path, results_save_path)"
   ]
  },
  {
   "attachments": {},
   "cell_type": "markdown",
   "metadata": {},
   "source": [
    "### Subject-wise model"
   ]
  },
  {
   "cell_type": "code",
   "execution_count": 34,
   "metadata": {},
   "outputs": [],
   "source": [
    "# prepare paths\n",
    "model_name = \"subject-wise_mean\"\n",
    "results_save_path = results_root / model_name / \"results\"\n",
    "\n",
    "# compute baseline\n",
    "for fold_num in range(2):\n",
    "    fold_data_path = scenario4_data_path / f\"fold_{fold_num}\"\n",
    "    for subject_num, paths_list in iter_train_subjects_and_get_paths(fold_data_path):\n",
    "        subject_arousal_results = list()\n",
    "        subject_valence_results = list()\n",
    "        for train_path in paths_list:\n",
    "            mean = pd.read_csv(train_path)[[\"arousal\", \"valence\"]].mean()\n",
    "            subject_arousal_results.append(mean[\"arousal\"])\n",
    "            subject_valence_results.append(mean[\"valence\"])\n",
    "        subject_arousal_mean = np.mean(subject_arousal_results)\n",
    "        subject_valence_mean = np.mean(subject_valence_results)\n",
    "        # save predictions\n",
    "        for test_path in iter_subjects_videos_paths(fold_data_path, search_pattern=f\"**/test/annotations/sub_{subject_num}*.csv\"):\n",
    "            test_df = pd.read_csv(test_path)\n",
    "            test_df[\"arousal\"] = subject_arousal_mean\n",
    "            test_df[\"valence\"] = subject_valence_mean\n",
    "            save_df(test_df, test_path, competition_data_path, results_save_path)"
   ]
  },
  {
   "cell_type": "markdown",
   "metadata": {},
   "source": [
    "# Multilinear predictions"
   ]
  },
  {
   "cell_type": "code",
   "execution_count": 35,
   "metadata": {},
   "outputs": [],
   "source": [
    "def get_subjects_paths(scenario_path, train_or_test):\n",
    "    subjects_paths = dict()\n",
    "    for physio_path, annot_path in zip(\n",
    "        sorted(scenario_path.glob(pattern=f\"**/{train_or_test}/physiology/*.csv\")), sorted(scenario_path.glob(pattern=f\"**/{train_or_test}/annotations/*.csv\"))\n",
    "        ):\n",
    "        assert physio_path.name == annot_path.name\n",
    "        subject_num = physio_path.stem.split(\"_\")[1]\n",
    "        subjects_paths.setdefault(subject_num, {\"physiology\": list(), \"annotations\": list()})\n",
    "        subjects_paths[subject_num][\"physiology\"].append(physio_path)\n",
    "        subjects_paths[subject_num][\"annotations\"].append(annot_path)\n",
    "    return subjects_paths\n",
    "\n",
    "def get_videos_paths(scenario_path, train_or_test):\n",
    "    videos_paths = dict()\n",
    "    for physio_path, annot_path in zip(\n",
    "        sorted(scenario_path.glob(pattern=f\"**/{train_or_test}/physiology/*.csv\")), sorted(scenario_path.glob(pattern=f\"**/{train_or_test}/annotations/*.csv\"))\n",
    "        ):\n",
    "        assert physio_path.name == annot_path.name\n",
    "        vid_num = physio_path.stem.split(\"_\")[3]\n",
    "        videos_paths.setdefault(vid_num, {\"physiology\": list(), \"annotations\": list()})\n",
    "        videos_paths[vid_num][\"physiology\"].append(physio_path)\n",
    "        videos_paths[vid_num][\"annotations\"].append(annot_path)\n",
    "    return videos_paths\n",
    "\n",
    "def iter_subjects_videos_paths(scenario_path, train_or_test):\n",
    "    for physio_path, annot_path in zip(\n",
    "        sorted(scenario_path.glob(pattern=f\"**/{train_or_test}/physiology/*.csv\")), sorted(scenario_path.glob(pattern=f\"**/{train_or_test}/annotations/*.csv\"))\n",
    "        ):\n",
    "        assert physio_path.name == annot_path.name\n",
    "        yield physio_path, annot_path\n",
    "\n",
    "def iter_train_subjects_and_get_paths(scenario_path, train_or_test):\n",
    "    subjects_paths = get_subjects_paths(scenario_path, train_or_test)\n",
    "    for subject_num, subjects_paths_dict in subjects_paths.items():\n",
    "        yield subject_num, subjects_paths_dict['physiology'], subjects_paths_dict['annotations']\n",
    "\n",
    "def iter_train_videos_and_get_paths(scenario_path, train_or_test):\n",
    "    videos_paths = get_videos_paths(scenario_path, train_or_test)\n",
    "    for video_num, videos_paths_dict in videos_paths.items():\n",
    "        yield video_num, videos_paths_dict['physiology'], videos_paths_dict['annotations']"
   ]
  },
  {
   "cell_type": "markdown",
   "metadata": {},
   "source": [
    "## Scenario 1"
   ]
  },
  {
   "cell_type": "code",
   "execution_count": 36,
   "metadata": {},
   "outputs": [],
   "source": [
    "scenario1_data_path = competition_data_path / \"scenario_1\""
   ]
  },
  {
   "cell_type": "markdown",
   "metadata": {},
   "source": [
    "### fold-wise model"
   ]
  },
  {
   "cell_type": "code",
   "execution_count": 37,
   "metadata": {},
   "outputs": [],
   "source": [
    "# prepare paths\n",
    "model_name = \"fold-wise_multilinear\"\n",
    "results_save_path = results_root / model_name / \"results\"\n",
    "\n",
    "# compute baseline\n",
    "arousal_annots = list()\n",
    "valence_annots = list()\n",
    "physiology = list()\n",
    "for train_physio_path, train_annot_path in iter_subjects_videos_paths(scenario1_data_path, 'train'):\n",
    "    annot_df = pd.read_csv(train_annot_path)\n",
    "    arousal_annots.append(annot_df[\"arousal\"].to_numpy())\n",
    "    valence_annots.append(annot_df[\"valence\"].to_numpy())\n",
    "    physio_df = pd.read_csv(train_physio_path).drop(columns=[\"time\"])\n",
    "    physiology.append(physio_df.iloc[annot_df['time']].to_numpy())\n",
    "arousal_annots = np.concatenate(arousal_annots)\n",
    "valence_annots = np.concatenate(valence_annots)\n",
    "physiology = np.concatenate(physiology)\n",
    "\n",
    "arousal_model = LinearRegression()\n",
    "valence_model = LinearRegression()\n",
    "\n",
    "arousal_model.fit(physiology, arousal_annots)\n",
    "valence_model.fit(physiology, valence_annots)\n",
    "\n",
    "# save predictions\n",
    "for test_physio_path, test_annot_path in iter_subjects_videos_paths(scenario1_data_path, 'test'):\n",
    "    test_annot_df = pd.read_csv(test_annot_path)\n",
    "    test_physio_df = pd.read_csv(test_physio_path).drop(columns=[\"time\"])\n",
    "    physiology = test_physio_df.iloc[test_annot_df['time']].to_numpy()\n",
    "    test_annot_df[\"arousal\"] = arousal_model.predict(physiology)\n",
    "    test_annot_df[\"valence\"] = valence_model.predict(physiology)\n",
    "    save_df(test_annot_df, test_annot_path, competition_data_path, results_save_path)"
   ]
  },
  {
   "cell_type": "markdown",
   "metadata": {},
   "source": [
    "### subject-wise model"
   ]
  },
  {
   "cell_type": "code",
   "execution_count": 38,
   "metadata": {},
   "outputs": [],
   "source": [
    "# prepare paths\n",
    "model_name = \"subject-wise_multilinear\"\n",
    "results_save_path = results_root / model_name / \"results\"\n",
    "\n",
    "subjects_models = dict()\n",
    "\n",
    "for subject_num, train_physio_paths_list, train_annot_paths_list in iter_train_subjects_and_get_paths(scenario1_data_path, 'train'):\n",
    "    subject_arousal_annots = list()\n",
    "    subject_valence_annots = list()\n",
    "    subject_physiology = list()\n",
    "    for train_physio_path, train_annot_path in zip(train_physio_paths_list, train_annot_paths_list):\n",
    "        annot_df = pd.read_csv(train_annot_path)\n",
    "        subject_arousal_annots.append(annot_df[\"arousal\"].to_numpy())\n",
    "        subject_valence_annots.append(annot_df[\"valence\"].to_numpy())\n",
    "        physio_df = pd.read_csv(train_physio_path).drop(columns=[\"time\"])\n",
    "        subject_physiology.append(physio_df.iloc[annot_df['time']].to_numpy())\n",
    "    subject_arousal_annots = np.concatenate(subject_arousal_annots)\n",
    "    subject_valence_annots = np.concatenate(subject_valence_annots)\n",
    "    subject_physiology = np.concatenate(subject_physiology)\n",
    "\n",
    "    subject_arousal_model = LinearRegression()\n",
    "    subject_valence_model = LinearRegression()\n",
    "\n",
    "    subject_arousal_model.fit(subject_physiology, subject_arousal_annots)\n",
    "    subject_valence_model.fit(subject_physiology, subject_valence_annots)\n",
    "    subjects_models.setdefault(subject_num, {\"arousal\": subject_arousal_model, \"valence\": subject_valence_model})\n",
    "\n",
    "# save predictions\n",
    "for subject_num, test_physio_paths_list, test_annot_paths_list in iter_train_subjects_and_get_paths(scenario1_data_path, 'test'):\n",
    "    for test_physio_path, test_annot_path in zip(test_physio_paths_list, test_annot_paths_list):\n",
    "        test_annot_df = pd.read_csv(test_annot_path)\n",
    "        test_physio_df = pd.read_csv(test_physio_path).drop(columns=[\"time\"])\n",
    "        physiology = test_physio_df.iloc[test_annot_df['time']].to_numpy()\n",
    "        test_annot_df[\"arousal\"] = subjects_models[subject_num]['arousal'].predict(physiology)\n",
    "        test_annot_df[\"valence\"] = subjects_models[subject_num]['valence'].predict(physiology)\n",
    "        save_df(test_annot_df, test_annot_path, competition_data_path, results_save_path)"
   ]
  },
  {
   "cell_type": "markdown",
   "metadata": {},
   "source": [
    "### Video-wise model"
   ]
  },
  {
   "cell_type": "code",
   "execution_count": 39,
   "metadata": {},
   "outputs": [],
   "source": [
    "# prepare paths\n",
    "model_name = \"video-wise_multilinear\"\n",
    "results_save_path = results_root / model_name / \"results\"\n",
    "\n",
    "videos_models = dict()\n",
    "\n",
    "for vid_num, train_physio_paths_list, train_annot_paths_list in iter_train_videos_and_get_paths(scenario1_data_path, 'train'):\n",
    "    video_arousal_annots = list()\n",
    "    video_valence_annots = list()\n",
    "    video_physiology = list()\n",
    "    for train_physio_path, train_annot_path in zip(train_physio_paths_list, train_annot_paths_list):\n",
    "        annot_df = pd.read_csv(train_annot_path)\n",
    "        video_arousal_annots.append(annot_df[\"arousal\"].to_numpy())\n",
    "        video_valence_annots.append(annot_df[\"valence\"].to_numpy())\n",
    "        physio_df = pd.read_csv(train_physio_path).drop(columns=[\"time\"])\n",
    "        video_physiology.append(physio_df.iloc[annot_df['time']].to_numpy())\n",
    "    video_arousal_annots = np.concatenate(video_arousal_annots)\n",
    "    video_valence_annots = np.concatenate(video_valence_annots)\n",
    "    video_physiology = np.concatenate(video_physiology)\n",
    "\n",
    "    video_arousal_model = LinearRegression()\n",
    "    video_valence_model = LinearRegression()\n",
    "\n",
    "    video_arousal_model.fit(video_physiology, video_arousal_annots)\n",
    "    video_valence_model.fit(video_physiology, video_valence_annots)\n",
    "    videos_models.setdefault(vid_num, {\"arousal\": video_arousal_model, \"valence\": video_valence_model})\n",
    "\n",
    "# save predictions\n",
    "for vid_num, test_physio_paths_list, test_annot_paths_list in iter_train_videos_and_get_paths(scenario1_data_path, 'test'):\n",
    "    for test_physio_path, test_annot_path in zip(test_physio_paths_list, test_annot_paths_list):\n",
    "        test_annot_df = pd.read_csv(test_annot_path)\n",
    "        test_physio_df = pd.read_csv(test_physio_path).drop(columns=[\"time\"])\n",
    "        physiology = test_physio_df.iloc[test_annot_df['time']].to_numpy()\n",
    "        test_annot_df[\"arousal\"] = videos_models[vid_num]['arousal'].predict(physiology)\n",
    "        test_annot_df[\"valence\"] = videos_models[vid_num]['valence'].predict(physiology)\n",
    "        save_df(test_annot_df, test_annot_path, competition_data_path, results_save_path)"
   ]
  },
  {
   "cell_type": "markdown",
   "metadata": {},
   "source": [
    "### Subvid-wise model"
   ]
  },
  {
   "cell_type": "code",
   "execution_count": 40,
   "metadata": {},
   "outputs": [],
   "source": [
    "# prepare paths\n",
    "model_name = \"subvid-wise_multilinear\"\n",
    "results_save_path = results_root / model_name / \"results\"\n",
    "\n",
    "# compute baseline\n",
    "subvid_models = dict()\n",
    "\n",
    "for train_physio_path, train_annot_path in iter_subjects_videos_paths(scenario1_data_path, 'train'):\n",
    "    subvid_stem = train_physio_path.stem\n",
    "    annot_df = pd.read_csv(train_annot_path)\n",
    "    subvid_arousal_annots = annot_df[\"arousal\"].to_numpy()\n",
    "    subvid_valence_annots = annot_df[\"valence\"].to_numpy()\n",
    "    physio_df = pd.read_csv(train_physio_path).drop(columns=[\"time\"])\n",
    "    subvid_physiology = physio_df.iloc[annot_df['time']].to_numpy()\n",
    "    subvid_arousal_model = LinearRegression()\n",
    "    subvid_valence_model = LinearRegression()\n",
    "    subvid_arousal_model.fit(subvid_physiology, subvid_arousal_annots)\n",
    "    subvid_valence_model.fit(subvid_physiology, subvid_valence_annots)\n",
    "    subvid_models.setdefault(subvid_stem, {\"arousal\": subvid_arousal_model, \"valence\": subvid_valence_model})\n",
    "\n",
    "# save predictions\n",
    "for test_physio_path, test_annot_path in iter_subjects_videos_paths(scenario1_data_path, 'test'):\n",
    "    subvid_stem = test_physio_path.stem\n",
    "    test_annot_df = pd.read_csv(test_annot_path)\n",
    "    test_physio_df = pd.read_csv(test_physio_path).drop(columns=[\"time\"])\n",
    "    physiology = test_physio_df.iloc[test_annot_df['time']].to_numpy()\n",
    "    test_annot_df[\"arousal\"] = subvid_models[subvid_stem]['arousal'].predict(physiology)\n",
    "    test_annot_df[\"valence\"] = subvid_models[subvid_stem]['valence'].predict(physiology)\n",
    "    save_df(test_annot_df, test_annot_path, competition_data_path, results_save_path)"
   ]
  },
  {
   "cell_type": "markdown",
   "metadata": {},
   "source": [
    "## Scenario 2"
   ]
  },
  {
   "cell_type": "code",
   "execution_count": 41,
   "metadata": {},
   "outputs": [],
   "source": [
    "scenario2_data_path = competition_data_path / \"scenario_2\""
   ]
  },
  {
   "cell_type": "markdown",
   "metadata": {},
   "source": [
    "### Fold-wise model"
   ]
  },
  {
   "cell_type": "code",
   "execution_count": 42,
   "metadata": {},
   "outputs": [],
   "source": [
    "# prepare paths\n",
    "model_name = \"fold-wise_multilinear\"\n",
    "results_save_path = results_root / model_name / \"results\"\n",
    "\n",
    "for fold_num in range(5):\n",
    "    fold_data_path = scenario2_data_path / f\"fold_{fold_num}\"\n",
    "    # compute baseline\n",
    "    arousal_annots = list()\n",
    "    valence_annots = list()\n",
    "    physiology = list()\n",
    "    for train_physio_path, train_annot_path in iter_subjects_videos_paths(fold_data_path, 'train'):\n",
    "        annot_df = pd.read_csv(train_annot_path)\n",
    "        arousal_annots.append(annot_df[\"arousal\"].to_numpy())\n",
    "        valence_annots.append(annot_df[\"valence\"].to_numpy())\n",
    "        physio_df = pd.read_csv(train_physio_path).drop(columns=[\"time\"])\n",
    "        physiology.append(physio_df.iloc[annot_df['time']].to_numpy())\n",
    "    arousal_annots = np.concatenate(arousal_annots)\n",
    "    valence_annots = np.concatenate(valence_annots)\n",
    "    physiology = np.concatenate(physiology)\n",
    "\n",
    "    arousal_model = LinearRegression()\n",
    "    valence_model = LinearRegression()\n",
    "\n",
    "    arousal_model.fit(physiology, arousal_annots)\n",
    "    valence_model.fit(physiology, valence_annots)\n",
    "\n",
    "    # save predictions\n",
    "    for test_physio_path, test_annot_path in iter_subjects_videos_paths(fold_data_path, 'test'):\n",
    "        test_annot_df = pd.read_csv(test_annot_path)\n",
    "        test_physio_df = pd.read_csv(test_physio_path).drop(columns=[\"time\"])\n",
    "        physiology = test_physio_df.iloc[test_annot_df['time']].to_numpy()\n",
    "        test_annot_df[\"arousal\"] = arousal_model.predict(physiology)\n",
    "        test_annot_df[\"valence\"] = valence_model.predict(physiology)\n",
    "        save_df(test_annot_df, test_annot_path, competition_data_path, results_save_path)"
   ]
  },
  {
   "cell_type": "markdown",
   "metadata": {},
   "source": [
    "### Video-wise model"
   ]
  },
  {
   "cell_type": "code",
   "execution_count": 43,
   "metadata": {},
   "outputs": [],
   "source": [
    "# prepare paths\n",
    "model_name = \"video-wise_multilinear\"\n",
    "results_save_path = results_root / model_name / \"results\"\n",
    "\n",
    "for fold_num in range(5):\n",
    "    fold_data_path = scenario2_data_path / f\"fold_{fold_num}\"\n",
    "    videos_models = dict()\n",
    "\n",
    "    for vid_num, train_physio_paths_list, train_annot_paths_list in iter_train_videos_and_get_paths(fold_data_path, 'train'):\n",
    "        video_arousal_annots = list()\n",
    "        video_valence_annots = list()\n",
    "        video_physiology = list()\n",
    "        for train_physio_path, train_annot_path in zip(train_physio_paths_list, train_annot_paths_list):\n",
    "            annot_df = pd.read_csv(train_annot_path)\n",
    "            video_arousal_annots.append(annot_df[\"arousal\"].to_numpy())\n",
    "            video_valence_annots.append(annot_df[\"valence\"].to_numpy())\n",
    "            physio_df = pd.read_csv(train_physio_path).drop(columns=[\"time\"])\n",
    "            video_physiology.append(physio_df.iloc[annot_df['time']].to_numpy())\n",
    "        video_arousal_annots = np.concatenate(video_arousal_annots)\n",
    "        video_valence_annots = np.concatenate(video_valence_annots)\n",
    "        video_physiology = np.concatenate(video_physiology)\n",
    "\n",
    "        video_arousal_model = LinearRegression()\n",
    "        video_valence_model = LinearRegression()\n",
    "\n",
    "        video_arousal_model.fit(video_physiology, video_arousal_annots)\n",
    "        video_valence_model.fit(video_physiology, video_valence_annots)\n",
    "        videos_models.setdefault(vid_num, {\"arousal\": video_arousal_model, \"valence\": video_valence_model})\n",
    "\n",
    "    # save predictions\n",
    "    for vid_num, test_physio_paths_list, test_annot_paths_list in iter_train_videos_and_get_paths(fold_data_path, 'test'):\n",
    "        for test_physio_path, test_annot_path in zip(test_physio_paths_list, test_annot_paths_list):\n",
    "            test_annot_df = pd.read_csv(test_annot_path)\n",
    "            test_physio_df = pd.read_csv(test_physio_path).drop(columns=[\"time\"])\n",
    "            physiology = test_physio_df.iloc[test_annot_df['time']].to_numpy()\n",
    "            test_annot_df[\"arousal\"] = videos_models[vid_num]['arousal'].predict(physiology)\n",
    "            test_annot_df[\"valence\"] = videos_models[vid_num]['valence'].predict(physiology)\n",
    "            save_df(test_annot_df, test_annot_path, competition_data_path, results_save_path)"
   ]
  },
  {
   "cell_type": "markdown",
   "metadata": {},
   "source": [
    "## Scenario 3"
   ]
  },
  {
   "cell_type": "code",
   "execution_count": 44,
   "metadata": {},
   "outputs": [],
   "source": [
    "scenario3_data_path = competition_data_path / \"scenario_3\""
   ]
  },
  {
   "cell_type": "markdown",
   "metadata": {},
   "source": [
    "### Fold-wise model"
   ]
  },
  {
   "cell_type": "code",
   "execution_count": 45,
   "metadata": {},
   "outputs": [],
   "source": [
    "# prepare paths\n",
    "model_name = \"fold-wise_multilinear\"\n",
    "results_save_path = results_root / model_name / \"results\"\n",
    "\n",
    "for fold_num in range(4):\n",
    "    fold_data_path = scenario3_data_path / f\"fold_{fold_num}\"\n",
    "    # compute baseline\n",
    "    arousal_annots = list()\n",
    "    valence_annots = list()\n",
    "    physiology = list()\n",
    "    for train_physio_path, train_annot_path in iter_subjects_videos_paths(fold_data_path, 'train'):\n",
    "        annot_df = pd.read_csv(train_annot_path)\n",
    "        arousal_annots.append(annot_df[\"arousal\"].to_numpy())\n",
    "        valence_annots.append(annot_df[\"valence\"].to_numpy())\n",
    "        physio_df = pd.read_csv(train_physio_path).drop(columns=[\"time\"])\n",
    "        physiology.append(physio_df.iloc[annot_df['time']].to_numpy())\n",
    "    arousal_annots = np.concatenate(arousal_annots)\n",
    "    valence_annots = np.concatenate(valence_annots)\n",
    "    physiology = np.concatenate(physiology)\n",
    "\n",
    "    arousal_model = LinearRegression()\n",
    "    valence_model = LinearRegression()\n",
    "\n",
    "    arousal_model.fit(physiology, arousal_annots)\n",
    "    valence_model.fit(physiology, valence_annots)\n",
    "\n",
    "    # save predictions\n",
    "    for test_physio_path, test_annot_path in iter_subjects_videos_paths(fold_data_path, 'test'):\n",
    "        test_annot_df = pd.read_csv(test_annot_path)\n",
    "        test_physio_df = pd.read_csv(test_physio_path).drop(columns=[\"time\"])\n",
    "        physiology = test_physio_df.iloc[test_annot_df['time']].to_numpy()\n",
    "        test_annot_df[\"arousal\"] = arousal_model.predict(physiology)\n",
    "        test_annot_df[\"valence\"] = valence_model.predict(physiology)\n",
    "        save_df(test_annot_df, test_annot_path, competition_data_path, results_save_path)"
   ]
  },
  {
   "cell_type": "markdown",
   "metadata": {},
   "source": [
    "### Subject-wise model"
   ]
  },
  {
   "cell_type": "code",
   "execution_count": 46,
   "metadata": {},
   "outputs": [],
   "source": [
    "# prepare paths\n",
    "model_name = \"subject-wise_multilinear\"\n",
    "results_save_path = results_root / model_name / \"results\"\n",
    "\n",
    "for fold_num in range(4):\n",
    "    fold_data_path = scenario3_data_path / f\"fold_{fold_num}\"\n",
    "    subjects_models = dict()\n",
    "\n",
    "    for subject_num, train_physio_paths_list, train_annot_paths_list in iter_train_subjects_and_get_paths(fold_data_path, 'train'):\n",
    "        subject_arousal_annots = list()\n",
    "        subject_valence_annots = list()\n",
    "        subject_physiology = list()\n",
    "        for train_physio_path, train_annot_path in zip(train_physio_paths_list, train_annot_paths_list):\n",
    "            annot_df = pd.read_csv(train_annot_path)\n",
    "            subject_arousal_annots.append(annot_df[\"arousal\"].to_numpy())\n",
    "            subject_valence_annots.append(annot_df[\"valence\"].to_numpy())\n",
    "            physio_df = pd.read_csv(train_physio_path).drop(columns=[\"time\"])\n",
    "            subject_physiology.append(physio_df.iloc[annot_df['time']].to_numpy())\n",
    "        subject_arousal_annots = np.concatenate(subject_arousal_annots)\n",
    "        subject_valence_annots = np.concatenate(subject_valence_annots)\n",
    "        subject_physiology = np.concatenate(subject_physiology)\n",
    "\n",
    "        subject_arousal_model = LinearRegression()\n",
    "        subject_valence_model = LinearRegression()\n",
    "\n",
    "        subject_arousal_model.fit(subject_physiology, subject_arousal_annots)\n",
    "        subject_valence_model.fit(subject_physiology, subject_valence_annots)\n",
    "        subjects_models.setdefault(subject_num, {\"arousal\": subject_arousal_model, \"valence\": subject_valence_model})\n",
    "\n",
    "    # save predictions\n",
    "    for subject_num, test_physio_paths_list, test_annot_paths_list in iter_train_subjects_and_get_paths(fold_data_path, 'test'):\n",
    "        for test_physio_path, test_annot_path in zip(test_physio_paths_list, test_annot_paths_list):\n",
    "            test_annot_df = pd.read_csv(test_annot_path)\n",
    "            test_physio_df = pd.read_csv(test_physio_path).drop(columns=[\"time\"])\n",
    "            physiology = test_physio_df.iloc[test_annot_df['time']].to_numpy()\n",
    "            test_annot_df[\"arousal\"] = subjects_models[subject_num]['arousal'].predict(physiology)\n",
    "            test_annot_df[\"valence\"] = subjects_models[subject_num]['valence'].predict(physiology)\n",
    "            save_df(test_annot_df, test_annot_path, competition_data_path, results_save_path)"
   ]
  },
  {
   "cell_type": "markdown",
   "metadata": {},
   "source": [
    "## Scenario 4"
   ]
  },
  {
   "cell_type": "code",
   "execution_count": 47,
   "metadata": {},
   "outputs": [],
   "source": [
    "scenario4_data_path = competition_data_path / \"scenario_4\""
   ]
  },
  {
   "cell_type": "markdown",
   "metadata": {},
   "source": [
    "### Fold-wise model"
   ]
  },
  {
   "cell_type": "code",
   "execution_count": 48,
   "metadata": {},
   "outputs": [],
   "source": [
    "# prepare paths\n",
    "model_name = \"fold-wise_multilinear\"\n",
    "results_save_path = results_root / model_name / \"results\"\n",
    "\n",
    "for fold_num in range(2):\n",
    "    fold_data_path = scenario4_data_path / f\"fold_{fold_num}\"\n",
    "    # compute baseline\n",
    "    arousal_annots = list()\n",
    "    valence_annots = list()\n",
    "    physiology = list()\n",
    "    for train_physio_path, train_annot_path in iter_subjects_videos_paths(fold_data_path, 'train'):\n",
    "        annot_df = pd.read_csv(train_annot_path)\n",
    "        arousal_annots.append(annot_df[\"arousal\"].to_numpy())\n",
    "        valence_annots.append(annot_df[\"valence\"].to_numpy())\n",
    "        physio_df = pd.read_csv(train_physio_path).drop(columns=[\"time\"])\n",
    "        physiology.append(physio_df.iloc[annot_df['time']].to_numpy())\n",
    "    arousal_annots = np.concatenate(arousal_annots)\n",
    "    valence_annots = np.concatenate(valence_annots)\n",
    "    physiology = np.concatenate(physiology)\n",
    "\n",
    "    arousal_model = LinearRegression()\n",
    "    valence_model = LinearRegression()\n",
    "\n",
    "    arousal_model.fit(physiology, arousal_annots)\n",
    "    valence_model.fit(physiology, valence_annots)\n",
    "\n",
    "    # save predictions\n",
    "    for test_physio_path, test_annot_path in iter_subjects_videos_paths(fold_data_path, 'test'):\n",
    "        test_annot_df = pd.read_csv(test_annot_path)\n",
    "        test_physio_df = pd.read_csv(test_physio_path).drop(columns=[\"time\"])\n",
    "        physiology = test_physio_df.iloc[test_annot_df['time']].to_numpy()\n",
    "        test_annot_df[\"arousal\"] = arousal_model.predict(physiology)\n",
    "        test_annot_df[\"valence\"] = valence_model.predict(physiology)\n",
    "        save_df(test_annot_df, test_annot_path, competition_data_path, results_save_path)"
   ]
  },
  {
   "cell_type": "markdown",
   "metadata": {},
   "source": [
    "### Subject-wise model"
   ]
  },
  {
   "cell_type": "code",
   "execution_count": 49,
   "metadata": {},
   "outputs": [],
   "source": [
    "# prepare paths\n",
    "model_name = \"subject-wise_multilinear\"\n",
    "results_save_path = results_root / model_name / \"results\"\n",
    "\n",
    "for fold_num in range(2):\n",
    "    fold_data_path = scenario4_data_path / f\"fold_{fold_num}\"\n",
    "    subjects_models = dict()\n",
    "\n",
    "    for subject_num, train_physio_paths_list, train_annot_paths_list in iter_train_subjects_and_get_paths(fold_data_path, 'train'):\n",
    "        subject_arousal_annots = list()\n",
    "        subject_valence_annots = list()\n",
    "        subject_physiology = list()\n",
    "        for train_physio_path, train_annot_path in zip(train_physio_paths_list, train_annot_paths_list):\n",
    "            annot_df = pd.read_csv(train_annot_path)\n",
    "            subject_arousal_annots.append(annot_df[\"arousal\"].to_numpy())\n",
    "            subject_valence_annots.append(annot_df[\"valence\"].to_numpy())\n",
    "            physio_df = pd.read_csv(train_physio_path).drop(columns=[\"time\"])\n",
    "            subject_physiology.append(physio_df.iloc[annot_df['time']].to_numpy())\n",
    "        subject_arousal_annots = np.concatenate(subject_arousal_annots)\n",
    "        subject_valence_annots = np.concatenate(subject_valence_annots)\n",
    "        subject_physiology = np.concatenate(subject_physiology)\n",
    "\n",
    "        subject_arousal_model = LinearRegression()\n",
    "        subject_valence_model = LinearRegression()\n",
    "\n",
    "        subject_arousal_model.fit(subject_physiology, subject_arousal_annots)\n",
    "        subject_valence_model.fit(subject_physiology, subject_valence_annots)\n",
    "        subjects_models.setdefault(subject_num, {\"arousal\": subject_arousal_model, \"valence\": subject_valence_model})\n",
    "\n",
    "    # save predictions\n",
    "    for subject_num, test_physio_paths_list, test_annot_paths_list in iter_train_subjects_and_get_paths(fold_data_path, 'test'):\n",
    "        for test_physio_path, test_annot_path in zip(test_physio_paths_list, test_annot_paths_list):\n",
    "            test_annot_df = pd.read_csv(test_annot_path)\n",
    "            test_physio_df = pd.read_csv(test_physio_path).drop(columns=[\"time\"])\n",
    "            physiology = test_physio_df.iloc[test_annot_df['time']].to_numpy()\n",
    "            test_annot_df[\"arousal\"] = subjects_models[subject_num]['arousal'].predict(physiology)\n",
    "            test_annot_df[\"valence\"] = subjects_models[subject_num]['valence'].predict(physiology)\n",
    "            save_df(test_annot_df, test_annot_path, competition_data_path, results_save_path)"
   ]
  }
 ],
 "metadata": {
  "kernelspec": {
   "display_name": "epic_scoring",
   "language": "python",
   "name": "python3"
  },
  "language_info": {
   "codemirror_mode": {
    "name": "ipython",
    "version": 3
   },
   "file_extension": ".py",
   "mimetype": "text/x-python",
   "name": "python",
   "nbconvert_exporter": "python",
   "pygments_lexer": "ipython3",
   "version": "3.11.5"
  },
  "orig_nbformat": 4
 },
 "nbformat": 4,
 "nbformat_minor": 2
}
