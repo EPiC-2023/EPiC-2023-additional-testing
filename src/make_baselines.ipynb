{
 "cells": [
  {
   "cell_type": "code",
   "execution_count": 1,
   "metadata": {},
   "outputs": [],
   "source": [
    "from pathlib import Path\n",
    "import pandas as pd\n",
    "import numpy as np"
   ]
  },
  {
   "cell_type": "code",
   "execution_count": 2,
   "metadata": {},
   "outputs": [],
   "source": [
    "root = Path().resolve().parent\n",
    "competition_data_path = root / \"data/competition/competition_data/\"\n",
    "results_root = root / \"predictions/competition_baselines\""
   ]
  },
  {
   "cell_type": "code",
   "execution_count": 3,
   "metadata": {},
   "outputs": [],
   "source": [
    "def save_df(test_df, data_path, competition_data_path, results_save_path):\n",
    "    save_filepath = results_save_path / data_path.relative_to(competition_data_path)\n",
    "    save_filepath.parent.mkdir(parents=True, exist_ok=True)\n",
    "    test_df.round(3).to_csv(save_filepath, index=False)"
   ]
  },
  {
   "cell_type": "markdown",
   "metadata": {},
   "source": [
    "Only fold-wise model was used for the paper describing results"
   ]
  },
  {
   "cell_type": "markdown",
   "metadata": {},
   "source": [
    "# Average predictions"
   ]
  },
  {
   "cell_type": "code",
   "execution_count": 4,
   "metadata": {},
   "outputs": [],
   "source": [
    "def get_subjects_paths(data_path):\n",
    "    subjects_paths = dict()\n",
    "    for file_path in data_path.glob(\"**/train/annotations/*.csv\"):\n",
    "        subject_num = file_path.stem.split(\"_\")[1]\n",
    "        subjects_paths.setdefault(subject_num, list())\n",
    "        subjects_paths[subject_num].append(file_path)\n",
    "    return subjects_paths\n",
    "\n",
    "def get_videos_paths(data_path):\n",
    "    videos_paths = dict()\n",
    "    for file_path in data_path.glob(\"**/train/annotations/*.csv\"):\n",
    "        vid_num = file_path.stem.split(\"_\")[3]\n",
    "        videos_paths.setdefault(vid_num, list())\n",
    "        videos_paths[vid_num].append(file_path)\n",
    "    return videos_paths\n",
    "\n",
    "def iter_subjects_videos_paths(scenario_path, search_pattern=\"**/train/annotations/*.csv\"):\n",
    "    for data_path in scenario_path.glob(pattern=search_pattern):\n",
    "        yield data_path\n",
    "\n",
    "def iter_train_subjects_and_get_paths(scenario_path):\n",
    "    subjects_paths = get_subjects_paths(scenario_path)\n",
    "    for subject_num, subjects_paths_list in subjects_paths.items():\n",
    "        yield subject_num, subjects_paths_list\n",
    "\n",
    "def iter_train_videos_and_get_paths(scenario_path):\n",
    "    videos_paths = get_videos_paths(scenario_path)\n",
    "    for video_num, videos_paths_list in videos_paths.items():\n",
    "        yield video_num, videos_paths_list"
   ]
  },
  {
   "attachments": {},
   "cell_type": "markdown",
   "metadata": {},
   "source": [
    "## Scenario 1"
   ]
  },
  {
   "cell_type": "code",
   "execution_count": 5,
   "metadata": {},
   "outputs": [],
   "source": [
    "scenario1_data_path = competition_data_path / \"scenario_1\""
   ]
  },
  {
   "attachments": {},
   "cell_type": "markdown",
   "metadata": {},
   "source": [
    "### Fold-wise model"
   ]
  },
  {
   "cell_type": "code",
   "execution_count": 6,
   "metadata": {},
   "outputs": [],
   "source": [
    "# prepare paths\n",
    "model_name = \"fold-wise_mean\"\n",
    "results_save_path = results_root / model_name / \"results\"\n",
    "\n",
    "# compute baseline\n",
    "arousal_results = list()\n",
    "valence_results = list()\n",
    "for train_path in iter_subjects_videos_paths(scenario1_data_path):\n",
    "    mean = pd.read_csv(train_path)[[\"arousal\", \"valence\"]].mean()\n",
    "    arousal_results.append(mean[\"arousal\"])\n",
    "    valence_results.append(mean[\"valence\"])\n",
    "overall_arousal_mean = np.mean(arousal_results)\n",
    "overall_valence_mean = np.mean(valence_results)\n",
    "\n",
    "# save predictions\n",
    "for test_path in iter_subjects_videos_paths(scenario1_data_path, search_pattern=\"**/test/annotations/*.csv\"):\n",
    "    test_df = pd.read_csv(test_path)\n",
    "    test_df[\"arousal\"] = overall_arousal_mean\n",
    "    test_df[\"valence\"] = overall_valence_mean\n",
    "    save_df(test_df, test_path, competition_data_path, results_save_path)"
   ]
  },
  {
   "attachments": {},
   "cell_type": "markdown",
   "metadata": {},
   "source": [
    "### Subject-wise model"
   ]
  },
  {
   "cell_type": "code",
   "execution_count": 7,
   "metadata": {},
   "outputs": [],
   "source": [
    "# prepare paths\n",
    "model_name = \"subject-wise_mean\"\n",
    "results_save_path = results_root / model_name / \"results\"\n",
    "\n",
    "# compute baseline\n",
    "for subject_num, paths_list in iter_train_subjects_and_get_paths(scenario1_data_path):\n",
    "    subject_arousal_results = list()\n",
    "    subject_valence_results = list()\n",
    "    for train_path in paths_list:\n",
    "        mean = pd.read_csv(train_path)[[\"arousal\", \"valence\"]].mean()\n",
    "        subject_arousal_results.append(mean[\"arousal\"])\n",
    "        subject_valence_results.append(mean[\"valence\"])\n",
    "    subject_arousal_mean = np.mean(subject_arousal_results)\n",
    "    subject_valence_mean = np.mean(subject_valence_results)\n",
    "    # save predictions\n",
    "    for test_path in iter_subjects_videos_paths(scenario1_data_path, search_pattern=f\"**/test/annotations/sub_{subject_num}*.csv\"):\n",
    "        test_df = pd.read_csv(test_path)\n",
    "        test_df[\"arousal\"] = subject_arousal_mean\n",
    "        test_df[\"valence\"] = subject_valence_mean\n",
    "        save_df(test_df, test_path, competition_data_path, results_save_path)"
   ]
  },
  {
   "attachments": {},
   "cell_type": "markdown",
   "metadata": {},
   "source": [
    "### Video-wise model"
   ]
  },
  {
   "cell_type": "code",
   "execution_count": 8,
   "metadata": {},
   "outputs": [],
   "source": [
    "# prepare paths\n",
    "model_name = \"video-wise_mean\"\n",
    "results_save_path = results_root / model_name / \"results\"\n",
    "\n",
    "# compute baseline\n",
    "for video_num, paths_list in iter_train_videos_and_get_paths(scenario1_data_path):\n",
    "    video_arousal_results = list()\n",
    "    video_valence_results = list()\n",
    "    for train_path in paths_list:\n",
    "        mean = pd.read_csv(train_path)[[\"arousal\", \"valence\"]].mean()\n",
    "        video_arousal_results.append(mean[\"arousal\"])\n",
    "        video_valence_results.append(mean[\"valence\"])\n",
    "    video_arousal_mean = np.mean(video_arousal_results)\n",
    "    video_valence_mean = np.mean(video_valence_results)\n",
    "    # save predictions\n",
    "    for test_path in iter_subjects_videos_paths(scenario1_data_path, search_pattern=f\"**/test/annotations/*vid_{video_num}.csv\"):\n",
    "        test_df = pd.read_csv(test_path)\n",
    "        test_df[\"arousal\"] = video_arousal_mean\n",
    "        test_df[\"valence\"] = video_valence_mean\n",
    "        save_df(test_df, test_path, competition_data_path, results_save_path)"
   ]
  },
  {
   "attachments": {},
   "cell_type": "markdown",
   "metadata": {},
   "source": [
    "### Subject-video-wise model"
   ]
  },
  {
   "cell_type": "code",
   "execution_count": 9,
   "metadata": {},
   "outputs": [],
   "source": [
    "# prepare paths\n",
    "model_name = \"subvid-wise_mean\"\n",
    "results_save_path = results_root / model_name / \"results\"\n",
    "\n",
    "# compute baseline\n",
    "arousal_results = list()\n",
    "valence_results = list()\n",
    "for train_path in iter_subjects_videos_paths(scenario1_data_path):\n",
    "    mean = pd.read_csv(train_path)[[\"arousal\", \"valence\"]].mean()\n",
    "    mean_arousal, mean_valence = mean[\"arousal\"], mean[\"valence\"]\n",
    "    # save predictions\n",
    "    test_path = Path(str(train_path).replace(\"train\", \"test\"))\n",
    "    test_df = pd.read_csv(test_path)\n",
    "    test_df[\"arousal\"] = mean_arousal\n",
    "    test_df[\"valence\"] = mean_valence\n",
    "    save_df(test_df, test_path, competition_data_path, results_save_path)"
   ]
  },
  {
   "attachments": {},
   "cell_type": "markdown",
   "metadata": {},
   "source": [
    "## Scenario 2"
   ]
  },
  {
   "cell_type": "code",
   "execution_count": 10,
   "metadata": {},
   "outputs": [],
   "source": [
    "scenario2_data_path = competition_data_path / \"scenario_2\""
   ]
  },
  {
   "attachments": {},
   "cell_type": "markdown",
   "metadata": {},
   "source": [
    "### Fold-wise model"
   ]
  },
  {
   "cell_type": "code",
   "execution_count": 11,
   "metadata": {},
   "outputs": [],
   "source": [
    "# prepare paths\n",
    "model_name = \"fold-wise_mean\"\n",
    "results_save_path = results_root / model_name / \"results\"\n",
    "\n",
    "for fold_num in range(5):\n",
    "    fold_data_path = scenario2_data_path / f\"fold_{fold_num}\"\n",
    "    # compute baseline\n",
    "    arousal_results = list()\n",
    "    valence_results = list()\n",
    "    for train_path in iter_subjects_videos_paths(fold_data_path):\n",
    "        mean = pd.read_csv(train_path)[[\"arousal\", \"valence\"]].mean()\n",
    "        arousal_results.append(mean[\"arousal\"])\n",
    "        valence_results.append(mean[\"valence\"])\n",
    "    overall_arousal_mean = np.mean(arousal_results)\n",
    "    overall_valence_mean = np.mean(valence_results)\n",
    "\n",
    "    # save predictions\n",
    "    for test_path in iter_subjects_videos_paths(fold_data_path, search_pattern=\"**/test/annotations/*.csv\"):\n",
    "        test_df = pd.read_csv(test_path)\n",
    "        test_df[\"arousal\"] = overall_arousal_mean\n",
    "        test_df[\"valence\"] = overall_valence_mean\n",
    "        save_df(test_df, test_path, competition_data_path, results_save_path)"
   ]
  },
  {
   "attachments": {},
   "cell_type": "markdown",
   "metadata": {},
   "source": [
    "### Video-wise model"
   ]
  },
  {
   "cell_type": "code",
   "execution_count": 12,
   "metadata": {},
   "outputs": [],
   "source": [
    "# prepare paths\n",
    "model_name = \"video-wise_mean\"\n",
    "results_save_path = results_root / model_name / \"results\"\n",
    "\n",
    "for fold_num in range(5):\n",
    "    fold_data_path = scenario2_data_path / f\"fold_{fold_num}\"\n",
    "    # compute baseline\n",
    "    for video_num, paths_list in iter_train_videos_and_get_paths(fold_data_path):\n",
    "        video_arousal_results = list()\n",
    "        video_valence_results = list()\n",
    "        for train_path in paths_list:\n",
    "            mean = pd.read_csv(train_path)[[\"arousal\", \"valence\"]].mean()\n",
    "            video_arousal_results.append(mean[\"arousal\"])\n",
    "            video_valence_results.append(mean[\"valence\"])\n",
    "        video_arousal_mean = np.mean(video_arousal_results)\n",
    "        video_valence_mean = np.mean(video_valence_results)\n",
    "        # save predictions\n",
    "        for test_path in iter_subjects_videos_paths(fold_data_path, search_pattern=f\"**/test/annotations/*vid_{video_num}.csv\"):\n",
    "            test_df = pd.read_csv(test_path)\n",
    "            test_df[\"arousal\"] = video_arousal_mean\n",
    "            test_df[\"valence\"] = video_valence_mean\n",
    "            save_df(test_df, test_path, competition_data_path, results_save_path)"
   ]
  },
  {
   "attachments": {},
   "cell_type": "markdown",
   "metadata": {},
   "source": [
    "## Scenario 3"
   ]
  },
  {
   "cell_type": "code",
   "execution_count": 13,
   "metadata": {},
   "outputs": [],
   "source": [
    "scenario3_data_path = competition_data_path / \"scenario_3\""
   ]
  },
  {
   "attachments": {},
   "cell_type": "markdown",
   "metadata": {},
   "source": [
    "### Fold-wise model"
   ]
  },
  {
   "cell_type": "code",
   "execution_count": 14,
   "metadata": {},
   "outputs": [],
   "source": [
    "# prepare paths\n",
    "model_name = \"fold-wise_mean\"\n",
    "results_save_path = results_root / model_name / \"results\"\n",
    "\n",
    "for fold_num in range(4):\n",
    "    fold_data_path = scenario3_data_path / f\"fold_{fold_num}\"\n",
    "    # compute baseline\n",
    "    arousal_results = list()\n",
    "    valence_results = list()\n",
    "    for train_path in iter_subjects_videos_paths(fold_data_path):\n",
    "        mean = pd.read_csv(train_path)[[\"arousal\", \"valence\"]].mean()\n",
    "        arousal_results.append(mean[\"arousal\"])\n",
    "        valence_results.append(mean[\"valence\"])\n",
    "    overall_arousal_mean = np.mean(arousal_results)\n",
    "    overall_valence_mean = np.mean(valence_results)\n",
    "\n",
    "    # save predictions\n",
    "    for test_path in iter_subjects_videos_paths(fold_data_path, search_pattern=\"**/test/annotations/*.csv\"):\n",
    "        test_df = pd.read_csv(test_path)\n",
    "        test_df[\"arousal\"] = overall_arousal_mean\n",
    "        test_df[\"valence\"] = overall_valence_mean\n",
    "        save_df(test_df, test_path, competition_data_path, results_save_path)"
   ]
  },
  {
   "attachments": {},
   "cell_type": "markdown",
   "metadata": {},
   "source": [
    "### Subject-wise model"
   ]
  },
  {
   "cell_type": "code",
   "execution_count": 15,
   "metadata": {},
   "outputs": [],
   "source": [
    "# prepare paths\n",
    "model_name = \"subject-wise_mean\"\n",
    "results_save_path = results_root / model_name / \"results\"\n",
    "\n",
    "# compute baseline\n",
    "for fold_num in range(4):\n",
    "    fold_data_path = scenario3_data_path / f\"fold_{fold_num}\"\n",
    "    for subject_num, paths_list in iter_train_subjects_and_get_paths(fold_data_path):\n",
    "        subject_arousal_results = list()\n",
    "        subject_valence_results = list()\n",
    "        for train_path in paths_list:\n",
    "            mean = pd.read_csv(train_path)[[\"arousal\", \"valence\"]].mean()\n",
    "            subject_arousal_results.append(mean[\"arousal\"])\n",
    "            subject_valence_results.append(mean[\"valence\"])\n",
    "        subject_arousal_mean = np.mean(subject_arousal_results)\n",
    "        subject_valence_mean = np.mean(subject_valence_results)\n",
    "        # save predictions\n",
    "        for test_path in iter_subjects_videos_paths(fold_data_path, search_pattern=f\"**/test/annotations/sub_{subject_num}*.csv\"):\n",
    "            test_df = pd.read_csv(test_path)\n",
    "            test_df[\"arousal\"] = subject_arousal_mean\n",
    "            test_df[\"valence\"] = subject_valence_mean\n",
    "            save_df(test_df, test_path, competition_data_path, results_save_path)"
   ]
  },
  {
   "attachments": {},
   "cell_type": "markdown",
   "metadata": {},
   "source": [
    "## Scenario 4"
   ]
  },
  {
   "cell_type": "code",
   "execution_count": 16,
   "metadata": {},
   "outputs": [],
   "source": [
    "scenario4_data_path = competition_data_path / \"scenario_4\""
   ]
  },
  {
   "attachments": {},
   "cell_type": "markdown",
   "metadata": {},
   "source": [
    "### Fold-wise model"
   ]
  },
  {
   "cell_type": "code",
   "execution_count": 17,
   "metadata": {},
   "outputs": [],
   "source": [
    "# prepare paths\n",
    "model_name = \"fold-wise_mean\"\n",
    "results_save_path = results_root / model_name / \"results\"\n",
    "\n",
    "for fold_num in range(2):\n",
    "    fold_data_path = scenario4_data_path / f\"fold_{fold_num}\"\n",
    "    # compute baseline\n",
    "    arousal_results = list()\n",
    "    valence_results = list()\n",
    "    for train_path in iter_subjects_videos_paths(fold_data_path):\n",
    "        mean = pd.read_csv(train_path)[[\"arousal\", \"valence\"]].mean()\n",
    "        arousal_results.append(mean[\"arousal\"])\n",
    "        valence_results.append(mean[\"valence\"])\n",
    "    overall_arousal_mean = np.mean(arousal_results)\n",
    "    overall_valence_mean = np.mean(valence_results)\n",
    "\n",
    "    # save predictions\n",
    "    for test_path in iter_subjects_videos_paths(fold_data_path, search_pattern=\"**/test/annotations/*.csv\"):\n",
    "        test_df = pd.read_csv(test_path)\n",
    "        test_df[\"arousal\"] = overall_arousal_mean\n",
    "        test_df[\"valence\"] = overall_valence_mean\n",
    "        save_df(test_df, test_path, competition_data_path, results_save_path)"
   ]
  },
  {
   "attachments": {},
   "cell_type": "markdown",
   "metadata": {},
   "source": [
    "### Subject-wise model"
   ]
  },
  {
   "cell_type": "code",
   "execution_count": 18,
   "metadata": {},
   "outputs": [],
   "source": [
    "# prepare paths\n",
    "model_name = \"subject-wise_mean\"\n",
    "results_save_path = results_root / model_name / \"results\"\n",
    "\n",
    "# compute baseline\n",
    "for fold_num in range(2):\n",
    "    fold_data_path = scenario4_data_path / f\"fold_{fold_num}\"\n",
    "    for subject_num, paths_list in iter_train_subjects_and_get_paths(fold_data_path):\n",
    "        subject_arousal_results = list()\n",
    "        subject_valence_results = list()\n",
    "        for train_path in paths_list:\n",
    "            mean = pd.read_csv(train_path)[[\"arousal\", \"valence\"]].mean()\n",
    "            subject_arousal_results.append(mean[\"arousal\"])\n",
    "            subject_valence_results.append(mean[\"valence\"])\n",
    "        subject_arousal_mean = np.mean(subject_arousal_results)\n",
    "        subject_valence_mean = np.mean(subject_valence_results)\n",
    "        # save predictions\n",
    "        for test_path in iter_subjects_videos_paths(fold_data_path, search_pattern=f\"**/test/annotations/sub_{subject_num}*.csv\"):\n",
    "            test_df = pd.read_csv(test_path)\n",
    "            test_df[\"arousal\"] = subject_arousal_mean\n",
    "            test_df[\"valence\"] = subject_valence_mean\n",
    "            save_df(test_df, test_path, competition_data_path, results_save_path)"
   ]
  }
 ],
 "metadata": {
  "kernelspec": {
   "display_name": "epic_scoring",
   "language": "python",
   "name": "python3"
  },
  "language_info": {
   "codemirror_mode": {
    "name": "ipython",
    "version": 3
   },
   "file_extension": ".py",
   "mimetype": "text/x-python",
   "name": "python",
   "nbconvert_exporter": "python",
   "pygments_lexer": "ipython3",
   "version": "3.11.5"
  },
  "orig_nbformat": 4
 },
 "nbformat": 4,
 "nbformat_minor": 2
}
